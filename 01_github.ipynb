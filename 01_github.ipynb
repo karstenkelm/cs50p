{
 "cells": [
  {
   "cell_type": "code",
   "execution_count": 3,
   "metadata": {},
   "outputs": [
    {
     "name": "stdout",
     "output_type": "stream",
     "text": [
<<<<<<< HEAD
      "dienstag\n"
=======
      "moinsen, KK\n"
>>>>>>> eb54bf0 (mmm)
     ]
    }
   ],
   "source": [
<<<<<<< HEAD
    "### Oct 4, 9:50am\n",
    "print(\"dienstag\")\n"
=======
    "# Ask user for their name\n",
    "name = input(\"Whats your name? \")\n",
    "\n",
    "# Say hello to user\n",
    "print(\"moinsen,\", name)"
>>>>>>> eb54bf0 (mmm)
   ]
  },
  {
   "cell_type": "code",
   "execution_count": null,
   "metadata": {},
   "outputs": [],
   "source": []
  },
  {
   "cell_type": "code",
   "execution_count": null,
   "metadata": {},
   "outputs": [],
   "source": []
  },
  {
   "cell_type": "code",
   "execution_count": null,
   "metadata": {},
   "outputs": [],
   "source": []
  }
 ],
 "metadata": {
  "kernelspec": {
   "display_name": "cv",
   "language": "python",
   "name": "python3"
  },
  "language_info": {
   "codemirror_mode": {
    "name": "ipython",
    "version": 3
   },
   "file_extension": ".py",
   "mimetype": "text/x-python",
   "name": "python",
   "nbconvert_exporter": "python",
   "pygments_lexer": "ipython3",
   "version": "3.8.15"
  },
  "orig_nbformat": 4
 },
 "nbformat": 4,
 "nbformat_minor": 2
}
